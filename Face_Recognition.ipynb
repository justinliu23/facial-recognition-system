{
  "cells": [
    {
      "cell_type": "markdown",
      "metadata": {
        "id": "zzMe_kVuDneN"
      },
      "source": [
        "# Face Recognition\n",
        "\n",
        "**Face Verification** \"Is this the claimed person?\" This is a 1:1 matching problem.\n",
        "\n",
        "**Face Recognition** Unlike face verification, face recognition is a 1:K matching problem. For example, asking \"Who is this person?\" presents a much more difficult identification task for an AI system\n"
      ]
    },
    {
      "cell_type": "markdown",
      "metadata": {
        "id": "OEyEjwswDneO"
      },
      "source": [
        "## Table of Contents\n",
        "\n",
        "- [1 - Packages](#1)\n",
        "- [2 - Naive Face Verification](#2)\n",
        "- [3 - Encoding Face Images into a 128-Dimensional Vector](#3)\n",
        "    - [3.1 - Using a ConvNet to Compute Encodings](#3-1)\n",
        "    - [3.2 - The Triplet Loss](#3-2)\n",
        "- [4 - Loading the Pre-trained Model](#4)\n",
        "- [5 - Applying the Model](#5)\n",
        "    - [5.1 - Face Verification](#5-1)\n",
        "    - [5.2 - Face Recognition](#5-2)"
      ]
    },
    {
      "cell_type": "markdown",
      "metadata": {
        "id": "2lYfyZxvDneP"
      },
      "source": [
        "<a name='1'></a>\n",
        "## 1 - Packages\n",
        "\n"
      ]
    },
    {
      "cell_type": "code",
      "execution_count": null,
      "metadata": {
        "id": "kiT1J3uTDneP"
      },
      "outputs": [],
      "source": [
        "from tensorflow.keras.models import Sequential\n",
        "from tensorflow.keras.layers import Conv2D, ZeroPadding2D, Activation, Input, concatenate\n",
        "from tensorflow.keras.models import Model\n",
        "from tensorflow.keras.layers import BatchNormalization\n",
        "from tensorflow.keras.layers import MaxPooling2D, AveragePooling2D\n",
        "from tensorflow.keras.layers import Concatenate\n",
        "from tensorflow.keras.layers import Lambda, Flatten, Dense\n",
        "from tensorflow.keras.initializers import glorot_uniform\n",
        "from tensorflow.keras.layers import Layer\n",
        "from tensorflow.keras import backend as K\n",
        "K.set_image_data_format('channels_last')\n",
        "import os\n",
        "import numpy as np\n",
        "from numpy import genfromtxt\n",
        "import pandas as pd\n",
        "import tensorflow as tf\n",
        "import PIL\n",
        "\n",
        "%matplotlib inline\n",
        "%load_ext autoreload\n",
        "%autoreload 2"
      ]
    },
    {
      "cell_type": "markdown",
      "metadata": {
        "id": "mJRfNSGcDneQ"
      },
      "source": [
        "<a name='2'></a>\n",
        "## 2 - Naive Face Verification\n",
        "\n",
        "In Face Verification, there are two images and we have to determine if they are of the same person. The simplest way to do this is to compare the two images pixel-by-pixel. If the distance between the raw images is below a chosen threshold, it may be the same person.\n",
        "\n",
        "However, this algorithm performs poorly, since the pixel values change dramatically due to variations in lighting, orientation of the person's face, minor changes in head position, etc\n",
        "\n",
        "By using an encoding for each image, an element-wise comparison produces a more accurate judgement as to whether two pictures are of the same person."
      ]
    },
    {
      "cell_type": "markdown",
      "metadata": {
        "id": "7uT2--h3DneQ"
      },
      "source": [
        "<a name='3'></a>\n",
        "## 3 - Encoding Face Images into a 128-Dimensional Vector\n",
        "\n",
        "<a name='3-1'></a>\n",
        "### 3.1 - Using a ConvNet to Compute Encodings\n",
        "\n",
        "The FaceNet model takes a lot of data and a long time to train. So following the common practice in applied deep learning, I loaded weights that someone else has already trained. The network architecture follows the Inception model from [Szegedy *et al*..](https://arxiv.org/abs/1409.4842)\n",
        "\n",
        "- This network uses 160x160 dimensional RGB images as its input. Specifically, a face image (or batch of $m$ face images) as a tensor of shape $(m, n_H, n_W, n_C) = (m, 160, 160, 3)$\n",
        "- The input images are originally of shape 96x96, thus, I scaled them to 160x160.\n",
        "- The output is a matrix of shape $(m, 128)$ that encodes each input face image into a 128-dimensional vector\n",
        "\n"
      ]
    },
    {
      "cell_type": "code",
      "execution_count": null,
      "metadata": {
        "id": "NQhdascMDneQ"
      },
      "outputs": [],
      "source": [
        "from tensorflow.keras.models import model_from_json\n",
        "\n",
        "json_file = open('keras-facenet-h5/model.json', 'r')\n",
        "loaded_model_json = json_file.read()\n",
        "json_file.close()\n",
        "model = model_from_json(loaded_model_json)\n",
        "model.load_weights('keras-facenet-h5/model.h5')"
      ]
    },
    {
      "cell_type": "code",
      "execution_count": null,
      "metadata": {
        "id": "UADJTXhqDneR",
        "outputId": "06d3f90b-7c00-40dc-dfdb-ae206b8954f6"
      },
      "outputs": [
        {
          "name": "stdout",
          "output_type": "stream",
          "text": [
            "[<tf.Tensor 'input_1:0' shape=(None, 160, 160, 3) dtype=float32>]\n",
            "[<tf.Tensor 'Bottleneck_BatchNorm/batchnorm/add_1:0' shape=(None, 128) dtype=float32>]\n"
          ]
        }
      ],
      "source": [
        "print(model.inputs)\n",
        "print(model.outputs)"
      ]
    },
    {
      "cell_type": "markdown",
      "metadata": {
        "id": "in5gbETQDneR"
      },
      "source": [
        "By using a 128-neuron fully connected layer as its last layer, the model ensures that the output is an encoding vector of size 128. We can then use the encodings to compare two face images by computing the distance between two encodings and thresholding and thus determine if the two pictures represent the same person\n",
        "\n",
        "So, an encoding is a good one if:\n",
        "\n",
        "- The encodings of two images of the same person are quite similar to each other.\n",
        "- The encodings of two images of different persons are very different.\n",
        "\n",
        "The triplet loss function formalizes this, and tries to \"push\" the encodings of two images of the same person (Anchor and Positive) closer together, while \"pulling\" the encodings of two images of different persons (Anchor, Negative) further apart.\n",
        "    "
      ]
    },
    {
      "cell_type": "markdown",
      "metadata": {
        "id": "6tUDS-IBDneS"
      },
      "source": [
        "<a name='3-2'></a>\n",
        "### 3.2 - Triplet Loss\n",
        "\n",
        "The triplet loss is the main ingredient of the face recognition algorithm.\n",
        "\n",
        "For an image $x$, its encoding is denoted as $f(x)$, where $f$ is the function computed by the neural network.\n",
        "\n",
        "Training will use triplets of images $(A, P, N)$:\n",
        "\n",
        "- A is an \"Anchor\" image--a picture of a person.\n",
        "- P is a \"Positive\" image--a picture of the same person as the Anchor image.\n",
        "- N is a \"Negative\" image--a picture of a different person than the Anchor image.\n",
        "\n",
        "These triplets are picked from the training dataset. $(A^{(i)}, P^{(i)}, N^{(i)})$ is used here to denote the $i$-th training example.\n",
        "\n",
        "We'd like to make sure that an image $A^{(i)}$ of an individual is closer to the Positive $P^{(i)}$ than to the Negative image $N^{(i)}$) by at least a margin $\\alpha$:\n",
        "\n",
        "$$\n",
        "|| f\\left(A^{(i)}\\right)-f\\left(P^{(i)}\\right)||_{2}^{2}+\\alpha<|| f\\left(A^{(i)}\\right)-f\\left(N^{(i)}\\right)||_{2}^{2}\n",
        "$$\n",
        "\n",
        "\n",
        "We'd thus like to minimize the following \"triplet cost\":\n",
        "\n",
        "$$\\mathcal{J} = \\sum^{m}_{i=1} \\large[ \\small \\underbrace{\\mid \\mid f(A^{(i)}) - f(P^{(i)}) \\mid \\mid_2^2}_\\text{(1)} - \\underbrace{\\mid \\mid f(A^{(i)}) - f(N^{(i)}) \\mid \\mid_2^2}_\\text{(2)} + \\alpha \\large ] \\small_+ \\tag{3}$$\n",
        "Here, the notation \"$[z]_+$\" is used to denote $max(z,0)$.\n",
        "\n",
        "**Notes**:\n",
        "\n",
        "- The term (1) is the squared distance between the anchor \"A\" and the positive \"P\" for a given triplet; this should be small.\n",
        "- The term (2) is the squared distance between the anchor \"A\" and the negative \"N\" for a given triplet, this should be relatively large. It has a minus sign preceding it because minimizing the negative of the term is the same as maximizing that term.\n",
        "- $\\alpha$ is called the margin. It's a hyperparameter that picked manually. I used $\\alpha = 0.2$.\n",
        "\n",
        "\n",
        "Here, I implemented the triplet loss as defined by formula (3). The 4 main steps were:\n",
        "\n",
        "1. Compute the distance between the encodings of \"anchor\" and \"positive\": $\\mid \\mid f(A^{(i)}) - f(P^{(i)}) \\mid \\mid_2^2$\n",
        "2. Compute the distance between the encodings of \"anchor\" and \"negative\": $\\mid \\mid f(A^{(i)}) - f(N^{(i)}) \\mid \\mid_2^2$\n",
        "3. Compute the formula per training example: $ \\mid \\mid f(A^{(i)}) - f(P^{(i)}) \\mid \\mid_2^2 - \\mid \\mid f(A^{(i)}) - f(N^{(i)}) \\mid \\mid_2^2 + \\alpha$\n",
        "4. Compute the full formula by taking the max with zero and summing over the training examples:$$\\mathcal{J} = \\sum^{m}_{i=1} \\large[ \\small \\mid \\mid f(A^{(i)}) - f(P^{(i)}) \\mid \\mid_2^2 - \\mid \\mid f(A^{(i)}) - f(N^{(i)}) \\mid \\mid_2^2+ \\alpha \\large ] \\small_+ \\tag{3}$$\n"
      ]
    },
    {
      "cell_type": "code",
      "execution_count": null,
      "metadata": {
        "nbgrader": {
          "grade": false,
          "grade_id": "cell-f05732f7068382cb",
          "locked": false,
          "schema_version": 3,
          "solution": true,
          "task": false
        },
        "id": "AYj3IX_PDneS"
      },
      "outputs": [],
      "source": [
        "def triplet_loss(y_true, y_pred, alpha = 0.2):\n",
        "    \"\"\"\n",
        "    Implementation of the triplet loss as defined by formula (3)\n",
        "\n",
        "    Arguments:\n",
        "    y_true -- true labels\n",
        "    y_pred -- python list containing three objects:\n",
        "            anchor -- the encodings for the anchor images, of shape (None, 128)\n",
        "            positive -- the encodings for the positive images, of shape (None, 128)\n",
        "            negative -- the encodings for the negative images, of shape (None, 128)\n",
        "\n",
        "    Returns:\n",
        "    loss -- real number, value of the loss\n",
        "    \"\"\"\n",
        "\n",
        "    anchor, positive, negative = y_pred[0], y_pred[1], y_pred[2]\n",
        "\n",
        "    # Step 1: Compute the (encoding) distance between the anchor and the positive\n",
        "    pos_dist = tf.reduce_sum(tf.square(tf.math.subtract(anchor, positive)), axis=-1)\n",
        "    # Step 2: Compute the (encoding) distance between the anchor and the negative\n",
        "    neg_dist = tf.reduce_sum(tf.square(tf.math.subtract(anchor, negative)), axis=-1)\n",
        "    # Step 3: subtract the two previous distances and add alpha.\n",
        "    basic_loss = tf.add(tf.subtract(pos_dist, neg_dist), alpha)\n",
        "    # Step 4: Take the maximum of basic_loss and 0.0. Sum over the training examples.\n",
        "    loss = tf.reduce_sum(tf.math.maximum(basic_loss, 0))\n",
        "\n",
        "    return loss"
      ]
    },
    {
      "cell_type": "markdown",
      "metadata": {
        "id": "4Ft4hn6kDneT"
      },
      "source": [
        "<a name='4'></a>\n",
        "## 4 - Loading the Pre-trained Model\n",
        "\n"
      ]
    },
    {
      "cell_type": "code",
      "execution_count": null,
      "metadata": {
        "nbgrader": {
          "grade": false,
          "grade_id": "cell-953bcab8e9bbba10",
          "locked": true,
          "schema_version": 3,
          "solution": false,
          "task": false
        },
        "id": "DUxULiwvDneT"
      },
      "outputs": [],
      "source": [
        "FRmodel = model"
      ]
    },
    {
      "cell_type": "markdown",
      "metadata": {
        "id": "SswS0HaZDneT"
      },
      "source": [
        "<a name='5'></a>\n",
        "## 5 - Applying the Model\n",
        "\n",
        "In the next part, I simulated building a system for an office building where the building manager would like to offer facial recognition to allow the employees to enter the building.\n",
        "\n",
        "To be admitted by the face verification system, each person has to swipe an identification card at the entrance. The face recognition system then verifies that they are who they claim to be.\n",
        "\n",
        "<a name='5-1'></a>\n",
        "### 5.1 - Face Verification\n",
        "\n",
        "Here we need to build a database containing one encoding vector for each person who is allowed to enter the office."
      ]
    },
    {
      "cell_type": "code",
      "execution_count": null,
      "metadata": {
        "id": "KcJVLm9mDneT"
      },
      "outputs": [],
      "source": [
        "#tf.keras.backend.set_image_data_format('channels_last')\n",
        "def img_to_encoding(image_path, model):\n",
        "    img = tf.keras.preprocessing.image.load_img(image_path, target_size=(160, 160))\n",
        "    img = np.around(np.array(img) / 255.0, decimals=12)\n",
        "    x_train = np.expand_dims(img, axis=0)\n",
        "    embedding = model.predict_on_batch(x_train)\n",
        "    return embedding / np.linalg.norm(embedding, ord=2)"
      ]
    },
    {
      "cell_type": "code",
      "execution_count": null,
      "metadata": {
        "id": "ZDQrQ84jDneU"
      },
      "outputs": [],
      "source": [
        "database = {}\n",
        "database[\"danielle\"] = img_to_encoding(\"images/danielle.png\", FRmodel)\n",
        "database[\"younes\"] = img_to_encoding(\"images/younes.jpg\", FRmodel)\n",
        "database[\"tian\"] = img_to_encoding(\"images/tian.jpg\", FRmodel)\n",
        "database[\"andrew\"] = img_to_encoding(\"images/andrew.jpg\", FRmodel)\n",
        "database[\"kian\"] = img_to_encoding(\"images/kian.jpg\", FRmodel)\n",
        "database[\"dan\"] = img_to_encoding(\"images/dan.jpg\", FRmodel)\n",
        "database[\"sebastiano\"] = img_to_encoding(\"images/sebastiano.jpg\", FRmodel)\n",
        "database[\"bertrand\"] = img_to_encoding(\"images/bertrand.jpg\", FRmodel)\n",
        "database[\"kevin\"] = img_to_encoding(\"images/kevin.jpg\", FRmodel)\n",
        "database[\"felix\"] = img_to_encoding(\"images/felix.jpg\", FRmodel)\n",
        "database[\"benoit\"] = img_to_encoding(\"images/benoit.jpg\", FRmodel)\n",
        "database[\"arnaud\"] = img_to_encoding(\"images/arnaud.jpg\", FRmodel)"
      ]
    },
    {
      "cell_type": "code",
      "execution_count": null,
      "metadata": {
        "id": "jwA03xGPDneU"
      },
      "outputs": [],
      "source": [
        "danielle = tf.keras.preprocessing.image.load_img(\"images/danielle.png\", target_size=(160, 160))\n",
        "kian = tf.keras.preprocessing.image.load_img(\"images/kian.jpg\", target_size=(160, 160))"
      ]
    },
    {
      "cell_type": "code",
      "execution_count": null,
      "metadata": {
        "id": "5VRxycbVDneU",
        "outputId": "0afd64e6-2e5c-4ec3-9ebe-c47792d8c72e"
      },
      "outputs": [
        {
          "data": {
            "text/plain": [
              "(160, 160, 3)"
            ]
          },
          "execution_count": 16,
          "metadata": {},
          "output_type": "execute_result"
        }
      ],
      "source": [
        "np.around(np.array(kian) / 255.0, decimals=12).shape"
      ]
    },
    {
      "cell_type": "code",
      "execution_count": null,
      "metadata": {
        "id": "yrXRreMRDneU",
        "outputId": "fb63df84-63d5-4c1c-b204-36b10f4b4fb9"
      },
      "outputs": [
        {
          "data": {
            "text/plain": [
              "(160, 160, 3)"
            ]
          },
          "execution_count": 18,
          "metadata": {},
          "output_type": "execute_result"
        }
      ],
      "source": [
        "np.around(np.array(danielle) / 255.0, decimals=12).shape"
      ]
    },
    {
      "cell_type": "markdown",
      "metadata": {
        "id": "POJXoNYsDneV"
      },
      "source": [
        "Now, when someone shows up at the front door and swipes their ID card (thus giving their name), we can look up their encoding in the database, and use it to check if the person standing at the front door matches the name on the ID.\n",
        "\n",
        "To implement the `verify()` function, I used the following steps:\n",
        "\n",
        "- Compute the encoding of the image from `image_path`.\n",
        "- Compute the distance between this encoding and the encoding of the identity image stored in the database.\n",
        "- Open the door if the distance is less than 0.7, else do not open it."
      ]
    },
    {
      "cell_type": "code",
      "execution_count": null,
      "metadata": {
        "nbgrader": {
          "grade": false,
          "grade_id": "cell-ba2f317e79e15a2f",
          "locked": false,
          "schema_version": 3,
          "solution": true,
          "task": false
        },
        "id": "gdBRTzWYDneV"
      },
      "outputs": [],
      "source": [
        "def verify(image_path, identity, database, model):\n",
        "    \"\"\"\n",
        "    Function that verifies if the person on the \"image_path\" image is \"identity\".\n",
        "\n",
        "    Arguments:\n",
        "        image_path -- path to an image\n",
        "        identity -- string, name of the person we'd like to verify the identity. Has to be an employee who works in the office.\n",
        "        database -- python dictionary mapping names of allowed people's names (strings) to their encodings (vectors).\n",
        "        model -- Inception model instance in Keras\n",
        "\n",
        "    Returns:\n",
        "        dist -- distance between the image_path and the image of \"identity\" in the database.\n",
        "        door_open -- True, if the door should open. False otherwise.\n",
        "    \"\"\"\n",
        "    # Step 1: Compute the encoding for the image. Use img_to_encoding() see example above.\n",
        "    encoding = img_to_encoding(image_path, model)\n",
        "    # Step 2: Compute distance with identity's image\n",
        "    dist = np.linalg.norm(encoding - database[identity])\n",
        "    # Step 3: Open the door if dist < 0.7, else don't open\n",
        "    if dist < 0.7:\n",
        "        print(\"It's \" + str(identity) + \", welcome in!\")\n",
        "        door_open = True\n",
        "    else:\n",
        "        print(\"It's not \" + str(identity) + \", please go away\")\n",
        "        door_open = False\n",
        "\n",
        "    return dist, door_open"
      ]
    },
    {
      "cell_type": "code",
      "execution_count": null,
      "metadata": {
        "nbgrader": {
          "grade": true,
          "grade_id": "cell-014d077254ad7d52",
          "locked": true,
          "points": 1,
          "schema_version": 3,
          "solution": false,
          "task": false
        },
        "id": "GjFK8c75DneV",
        "outputId": "7096f5ee-2731-4769-f800-48ecd928f695"
      },
      "outputs": [
        {
          "name": "stdout",
          "output_type": "stream",
          "text": [
            "It's bertrand, welcome in!\n",
            "It's bertrand, welcome in!\n",
            "It's not younes, please go away\n",
            "It's not younes, please go away\n",
            "It's younes, welcome in!\n"
          ]
        },
        {
          "data": {
            "text/plain": [
              "(0.5992949, True)"
            ]
          },
          "execution_count": 23,
          "metadata": {},
          "output_type": "execute_result"
        }
      ],
      "source": [
        "assert(np.allclose(verify(\"images/camera_1.jpg\", \"bertrand\", database, FRmodel), (0.54364836, True)))\n",
        "assert(np.allclose(verify(\"images/camera_3.jpg\", \"bertrand\", database, FRmodel), (0.38616243, True)))\n",
        "assert(np.allclose(verify(\"images/camera_1.jpg\", \"younes\", database, FRmodel), (1.3963861, False)))\n",
        "assert(np.allclose(verify(\"images/camera_3.jpg\", \"younes\", database, FRmodel), (1.3872949, False)))\n",
        "\n",
        "verify(\"images/camera_0.jpg\", \"younes\", database, FRmodel)"
      ]
    },
    {
      "cell_type": "markdown",
      "metadata": {
        "id": "xzJrluKdDneV"
      },
      "source": [
        "Let's pretend that Benoit, who does not work in the office, stole Kian's ID card and tried to enter the office. The camera took a picture of Benoit: \"images/camera_2.jpg."
      ]
    },
    {
      "cell_type": "code",
      "execution_count": null,
      "metadata": {
        "id": "DzgNk_y0DneV",
        "outputId": "fd63cc0c-29b0-4f1a-96d3-040d19eeb805"
      },
      "outputs": [
        {
          "name": "stdout",
          "output_type": "stream",
          "text": [
            "It's not kian, please go away\n"
          ]
        },
        {
          "data": {
            "text/plain": [
              "(1.0259346, False)"
            ]
          },
          "execution_count": 24,
          "metadata": {},
          "output_type": "execute_result"
        }
      ],
      "source": [
        "verify(\"images/camera_2.jpg\", \"kian\", database, FRmodel)"
      ]
    },
    {
      "cell_type": "markdown",
      "metadata": {
        "id": "EjRckZ4sDneW"
      },
      "source": [
        "<a name='5-2'></a>\n",
        "### 5.2 - Face Recognition\n",
        "\n",
        "To next implement a face recognition algorithm, we can follow these steps:\n",
        "\n",
        "- Compute the target encoding of the image from `image_path`\n",
        "- Find the encoding from the database that has smallest distance with the target encoding.\n",
        "- Initialize the `min_dist` variable to a large enough number (100) to help keep track of the closest encoding to the input's encoding.\n",
        "- Loop over the database dictionary's names and encodings.\n",
        "- Compute the L2 distance between the target \"encoding\" and the current \"encoding\" from the database. If this distance is less than the min_dist, then set min_dist to dist, and identity to name."
      ]
    },
    {
      "cell_type": "code",
      "execution_count": null,
      "metadata": {
        "nbgrader": {
          "grade": false,
          "grade_id": "cell-a04ff2b5fd1186f8",
          "locked": false,
          "schema_version": 3,
          "solution": true,
          "task": false
        },
        "id": "mIl9oIxqDneW"
      },
      "outputs": [],
      "source": [
        "def who_is_it(image_path, database, model):\n",
        "    \"\"\"\n",
        "    Implements face recognition for the office by finding who is the person on the image_path image.\n",
        "\n",
        "    Arguments:\n",
        "        image_path -- path to an image\n",
        "        database -- database containing image encodings along with the name of the person on the image\n",
        "        model -- Inception model instance in Keras\n",
        "\n",
        "    Returns:\n",
        "        min_dist -- the minimum distance between image_path encoding and the encodings from the database\n",
        "        identity -- string, the name prediction for the person on image_path\n",
        "    \"\"\"\n",
        "\n",
        "    ## Step 1: Compute the target \"encoding\" for the image. Use img_to_encoding() see example above.\n",
        "    encoding =  img_to_encoding(image_path, model)\n",
        "\n",
        "    ## Step 2: Find the closest encoding\n",
        "\n",
        "    # Initialize \"min_dist\" to a large value, say 100\n",
        "    min_dist = 1000\n",
        "\n",
        "    # Loop over the database dictionary's names and encodings.\n",
        "    for (name, db_enc) in database.items():\n",
        "\n",
        "        # Compute L2 distance between the target \"encoding\" and the current db_enc from the database\n",
        "        dist = np.linalg.norm(encoding - db_enc)\n",
        "\n",
        "        # If this distance is less than the min_dist, then set min_dist to dist, and identity to name\n",
        "        if dist < min_dist:\n",
        "            min_dist = dist\n",
        "            identity = name\n",
        "\n",
        "    if min_dist > 0.7:\n",
        "        print(\"Not in the database.\")\n",
        "    else:\n",
        "        print (\"it's \" + str(identity) + \", the distance is \" + str(min_dist))\n",
        "\n",
        "    return min_dist, identity"
      ]
    },
    {
      "cell_type": "code",
      "execution_count": null,
      "metadata": {
        "nbgrader": {
          "grade": true,
          "grade_id": "cell-9c88c8ab87677503",
          "locked": true,
          "points": 1,
          "schema_version": 3,
          "solution": false,
          "task": false
        },
        "id": "k7eBHa6GDneW",
        "outputId": "b145b191-296a-4a46-d09e-415446f9ff7c"
      },
      "outputs": [
        {
          "name": "stdout",
          "output_type": "stream",
          "text": [
            "it's younes, the distance is 0.5992949\n",
            "it's younes, the distance is 0.5992949\n",
            "it's younes, the distance is 0.0\n"
          ]
        }
      ],
      "source": [
        "# Test 1 with Younes pictures\n",
        "who_is_it(\"images/camera_0.jpg\", database, FRmodel)\n",
        "\n",
        "# Test 2 with Younes pictures\n",
        "test1 = who_is_it(\"images/camera_0.jpg\", database, FRmodel)\n",
        "assert np.isclose(test1[0], 0.5992946)\n",
        "assert test1[1] == 'younes'\n",
        "\n",
        "# Test 3 with Younes pictures\n",
        "test2 = who_is_it(\"images/younes.jpg\", database, FRmodel)\n",
        "assert np.isclose(test2[0], 0.0)\n",
        "assert test2[1] == 'younes'\n",
        "# END UNIT TEST"
      ]
    },
    {
      "cell_type": "markdown",
      "metadata": {
        "id": "qco2pt3xDnea"
      },
      "source": [
        "**Ways to improve the facial recognition model**:\n",
        "\n",
        "\n",
        "- Put more images of each person (under different lighting conditions, taken on different days, etc.) into the database. Then, given a new image, compare the new face to multiple pictures of the person. This would increase accuracy.\n",
        "\n",
        "- Crop the images to contain just the face, and less of the \"border\" region around the face. This preprocessing removes some of the irrelevant pixels around the face, and also makes the algorithm more robust."
      ]
    }
  ],
  "metadata": {
    "celltoolbar": "Raw Cell Format",
    "kernelspec": {
      "display_name": "Python 3",
      "language": "python",
      "name": "python3"
    },
    "language_info": {
      "codemirror_mode": {
        "name": "ipython",
        "version": 3
      },
      "file_extension": ".py",
      "mimetype": "text/x-python",
      "name": "python",
      "nbconvert_exporter": "python",
      "pygments_lexer": "ipython3",
      "version": "3.7.6"
    },
    "colab": {
      "provenance": []
    }
  },
  "nbformat": 4,
  "nbformat_minor": 0
}